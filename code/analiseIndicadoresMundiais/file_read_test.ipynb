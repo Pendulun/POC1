{
 "cells": [
  {
   "cell_type": "code",
   "execution_count": 3,
   "id": "0199c674-5ad8-4933-a7b5-a4e62c721d83",
   "metadata": {},
   "outputs": [],
   "source": [
    "import osmnx\n",
    "import pathlib"
   ]
  },
  {
   "cell_type": "code",
   "execution_count": 6,
   "id": "6f85318a-4514-470f-8176-8e32c3814be0",
   "metadata": {},
   "outputs": [],
   "source": [
    "graph_path = pathlib.Path(\"C:\\\\Users\\\\User\\\\Documents\\\\UFMG\\\\POC1\\\\world_graphs\\\\kabul-6118.graphml\")"
   ]
  },
  {
   "cell_type": "code",
   "execution_count": 7,
   "id": "cb3b5d6a-e7c6-426f-9606-af895de52a4f",
   "metadata": {},
   "outputs": [],
   "source": [
    "kabul = osmnx.io.load_graphml(graph_path)"
   ]
  },
  {
   "cell_type": "code",
   "execution_count": 8,
   "id": "33c97492-befd-437e-b895-dfe1e28228c3",
   "metadata": {},
   "outputs": [
    {
     "data": {
      "text/plain": [
       "networkx.classes.multidigraph.MultiDiGraph"
      ]
     },
     "execution_count": 8,
     "metadata": {},
     "output_type": "execute_result"
    }
   ],
   "source": [
    "type(kabul)"
   ]
  },
  {
   "cell_type": "code",
   "execution_count": 9,
   "id": "faa42691-2bbd-4c14-9e91-4a8adbb40652",
   "metadata": {},
   "outputs": [],
   "source": [
    "stats = osmnx.stats.basic_stats(kabul)"
   ]
  },
  {
   "cell_type": "code",
   "execution_count": 10,
   "id": "0b21f00d-7e38-453d-8519-6044d358f036",
   "metadata": {},
   "outputs": [
    {
     "data": {
      "text/plain": [
       "{'n': 24459,\n",
       " 'm': 63250,\n",
       " 'k_avg': 5.171920356514984,\n",
       " 'edge_length_total': 6700595.481999977,\n",
       " 'edge_length_avg': 105.9382684901182,\n",
       " 'streets_per_node_avg': 2.6989247311827955,\n",
       " 'streets_per_node_counts': {0: 0,\n",
       "  1: 5241,\n",
       "  2: 16,\n",
       "  3: 16140,\n",
       "  4: 3024,\n",
       "  5: 14,\n",
       "  6: 19,\n",
       "  7: 0,\n",
       "  8: 5},\n",
       " 'streets_per_node_proportions': {0: 0.0,\n",
       "  1: 0.21427695326873544,\n",
       "  2: 0.0006541559344208676,\n",
       "  3: 0.6598797988470502,\n",
       "  4: 0.12363547160554397,\n",
       "  5: 0.0005723864426182591,\n",
       "  6: 0.0007768101721247802,\n",
       "  7: 0.0,\n",
       "  8: 0.00020442372950652113},\n",
       " 'intersection_count': 19218,\n",
       " 'street_length_total': 3520578.698000008,\n",
       " 'street_segment_count': 32836,\n",
       " 'street_length_avg': 107.21703916433206,\n",
       " 'circuity_avg': 1.0370177566410073,\n",
       " 'self_loop_proportion': 0.0002131806553782434}"
      ]
     },
     "execution_count": 10,
     "metadata": {},
     "output_type": "execute_result"
    }
   ],
   "source": [
    "stats"
   ]
  },
  {
   "cell_type": "code",
   "execution_count": 14,
   "id": "7d9584d4-2f82-4916-9895-bf7292f9e3ef",
   "metadata": {},
   "outputs": [
    {
     "data": {
      "text/plain": [
       "{'y': 34.5266174,\n",
       " 'x': 69.2399164,\n",
       " 'street_count': 4,\n",
       " 'elevation': 1788.0,\n",
       " 'elevation_aster': '1795',\n",
       " 'elevation_srtm': '1788'}"
      ]
     },
     "execution_count": 14,
     "metadata": {},
     "output_type": "execute_result"
    }
   ],
   "source": [
    "kabul.nodes[25910079]"
   ]
  },
  {
   "cell_type": "code",
   "execution_count": 25,
   "id": "e66abd5e-61dd-4d41-ae0c-5383dd6220e8",
   "metadata": {},
   "outputs": [
    {
     "name": "stdout",
     "output_type": "stream",
     "text": [
      "(25910079, 4249358718, 0)\n",
      "(25910079, 4247368187, 0)\n",
      "(25910079, 4249358712, 0)\n"
     ]
    }
   ],
   "source": [
    "for edge in list(kabul.edges)[:3]:\n",
    "    print(edge)"
   ]
  },
  {
   "cell_type": "code",
   "execution_count": 21,
   "id": "d813de96-8982-40fc-b359-03d8e3251c10",
   "metadata": {},
   "outputs": [
    {
     "data": {
      "text/plain": [
       "{0: {'osmid': 783901415,\n",
       "  'highway': 'tertiary',\n",
       "  'oneway': False,\n",
       "  'length': 93.551,\n",
       "  'grade': 0.011,\n",
       "  'grade_abs': 0.011}}"
      ]
     },
     "execution_count": 21,
     "metadata": {},
     "output_type": "execute_result"
    }
   ],
   "source": [
    "kabul.get_edge_data(25910079, 4249358718)"
   ]
  },
  {
   "cell_type": "code",
   "execution_count": 26,
   "id": "4f7c0d4e-f883-4ce6-be60-261eeefbb4d3",
   "metadata": {},
   "outputs": [
    {
     "data": {
      "text/plain": [
       "{0: {'osmid': 7983416,\n",
       "  'highway': 'tertiary',\n",
       "  'oneway': False,\n",
       "  'length': 335.856,\n",
       "  'geometry': <shapely.geometry.linestring.LineString at 0x1dbc539d880>,\n",
       "  'grade': 0.015,\n",
       "  'grade_abs': 0.015}}"
      ]
     },
     "execution_count": 26,
     "metadata": {},
     "output_type": "execute_result"
    }
   ],
   "source": [
    "kabul.get_edge_data(25910079, 4247368187)"
   ]
  },
  {
   "cell_type": "code",
   "execution_count": 27,
   "id": "526bddb1-8c24-43dd-b12f-f0e104ef2a12",
   "metadata": {},
   "outputs": [
    {
     "data": {
      "text/plain": [
       "{0: {'osmid': 425645672,\n",
       "  'highway': 'unclassified',\n",
       "  'oneway': False,\n",
       "  'length': 18.871000000000002,\n",
       "  'geometry': <shapely.geometry.linestring.LineString at 0x1dbd86647c0>,\n",
       "  'grade': 0.159,\n",
       "  'grade_abs': 0.159}}"
      ]
     },
     "execution_count": 27,
     "metadata": {},
     "output_type": "execute_result"
    }
   ],
   "source": [
    "kabul.get_edge_data(25910079, 4249358712)"
   ]
  },
  {
   "cell_type": "code",
   "execution_count": null,
   "id": "948783d9-c97c-4257-aea6-820308d97be1",
   "metadata": {},
   "outputs": [],
   "source": []
  }
 ],
 "metadata": {
  "kernelspec": {
   "display_name": "poc",
   "language": "python",
   "name": "poc"
  },
  "language_info": {
   "codemirror_mode": {
    "name": "ipython",
    "version": 3
   },
   "file_extension": ".py",
   "mimetype": "text/x-python",
   "name": "python",
   "nbconvert_exporter": "python",
   "pygments_lexer": "ipython3",
   "version": "3.8.3"
  }
 },
 "nbformat": 4,
 "nbformat_minor": 5
}
