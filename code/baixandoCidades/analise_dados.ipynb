{
 "cells": [
  {
   "cell_type": "code",
   "execution_count": 40,
   "metadata": {},
   "outputs": [],
   "source": [
    "import pandas as pd\n",
    "import matplotlib.pyplot as plt\n",
    "import pathlib\n",
    "%matplotlib inline"
   ]
  },
  {
   "cell_type": "code",
   "execution_count": 41,
   "metadata": {},
   "outputs": [],
   "source": [
    "cidades = pd.read_csv(\"data/cidades.csv\")"
   ]
  },
  {
   "cell_type": "code",
   "execution_count": 42,
   "metadata": {},
   "outputs": [
    {
     "data": {
      "text/html": [
       "<div>\n",
       "<style scoped>\n",
       "    .dataframe tbody tr th:only-of-type {\n",
       "        vertical-align: middle;\n",
       "    }\n",
       "\n",
       "    .dataframe tbody tr th {\n",
       "        vertical-align: top;\n",
       "    }\n",
       "\n",
       "    .dataframe thead th {\n",
       "        text-align: right;\n",
       "    }\n",
       "</style>\n",
       "<table border=\"1\" class=\"dataframe\">\n",
       "  <thead>\n",
       "    <tr style=\"text-align: right;\">\n",
       "      <th></th>\n",
       "      <th>Cidade/Bairro</th>\n",
       "      <th>Anotação</th>\n",
       "      <th>Cidade</th>\n",
       "      <th>Estado</th>\n",
       "      <th>País</th>\n",
       "    </tr>\n",
       "  </thead>\n",
       "  <tbody>\n",
       "    <tr>\n",
       "      <th>0</th>\n",
       "      <td>Darulaman</td>\n",
       "      <td>NaN</td>\n",
       "      <td>Kabul</td>\n",
       "      <td>Kabul</td>\n",
       "      <td>Afghanistan</td>\n",
       "    </tr>\n",
       "    <tr>\n",
       "      <th>1</th>\n",
       "      <td>Ciudad Jardín Lomas del Palomar</td>\n",
       "      <td>NaN</td>\n",
       "      <td>Buenos Aires</td>\n",
       "      <td>Buenos Aires</td>\n",
       "      <td>Argentina</td>\n",
       "    </tr>\n",
       "    <tr>\n",
       "      <th>2</th>\n",
       "      <td>La Plata</td>\n",
       "      <td>NaN</td>\n",
       "      <td>La Plata</td>\n",
       "      <td>Buenos Aires</td>\n",
       "      <td>Argentina</td>\n",
       "    </tr>\n",
       "    <tr>\n",
       "      <th>3</th>\n",
       "      <td>La Punta</td>\n",
       "      <td>NaN</td>\n",
       "      <td>NaN</td>\n",
       "      <td>San Luis</td>\n",
       "      <td>Argentina</td>\n",
       "    </tr>\n",
       "    <tr>\n",
       "      <th>4</th>\n",
       "      <td>Federación</td>\n",
       "      <td>NaN</td>\n",
       "      <td>NaN</td>\n",
       "      <td>Entre Ríos</td>\n",
       "      <td>Argentina</td>\n",
       "    </tr>\n",
       "  </tbody>\n",
       "</table>\n",
       "</div>"
      ],
      "text/plain": [
       "                     Cidade/Bairro Anotação        Cidade        Estado  \\\n",
       "0                        Darulaman      NaN         Kabul         Kabul   \n",
       "1  Ciudad Jardín Lomas del Palomar      NaN  Buenos Aires  Buenos Aires   \n",
       "2                         La Plata      NaN      La Plata  Buenos Aires   \n",
       "3                         La Punta      NaN           NaN      San Luis   \n",
       "4                       Federación      NaN           NaN    Entre Ríos   \n",
       "\n",
       "          País  \n",
       "0  Afghanistan  \n",
       "1    Argentina  \n",
       "2    Argentina  \n",
       "3    Argentina  \n",
       "4    Argentina  "
      ]
     },
     "execution_count": 42,
     "metadata": {},
     "output_type": "execute_result"
    }
   ],
   "source": [
    "cidades.head()"
   ]
  },
  {
   "cell_type": "markdown",
   "metadata": {},
   "source": [
    "Se a coluna \"Cidade\" estiver preenchida, significa que o que está na coluna \"Cidade/Bairro\" é um bairro. Se não estiver preenchida, então o que estiver em \"Cidade/Bairro\" é uma cidade. Nem sempre está indicado o estado."
   ]
  },
  {
   "cell_type": "markdown",
   "metadata": {},
   "source": [
    "## Visualizando os dados"
   ]
  },
  {
   "cell_type": "code",
   "execution_count": 43,
   "metadata": {},
   "outputs": [
    {
     "data": {
      "text/plain": [
       "(955, 5)"
      ]
     },
     "execution_count": 43,
     "metadata": {},
     "output_type": "execute_result"
    }
   ],
   "source": [
    "cidades.shape"
   ]
  },
  {
   "cell_type": "markdown",
   "metadata": {},
   "source": [
    "### Quantidade de nulos"
   ]
  },
  {
   "cell_type": "code",
   "execution_count": 44,
   "metadata": {},
   "outputs": [
    {
     "data": {
      "text/plain": [
       "Cidade/Bairro      0\n",
       "Anotação         760\n",
       "Cidade           829\n",
       "Estado           523\n",
       "País               0\n",
       "dtype: int64"
      ]
     },
     "execution_count": 44,
     "metadata": {},
     "output_type": "execute_result"
    }
   ],
   "source": [
    "cidades.isna().sum()"
   ]
  },
  {
   "cell_type": "markdown",
   "metadata": {},
   "source": [
    "### Quantidade de cidades por país"
   ]
  },
  {
   "cell_type": "code",
   "execution_count": 45,
   "metadata": {},
   "outputs": [
    {
     "data": {
      "text/plain": [
       "United States    168\n",
       "Italy             76\n",
       "India             65\n",
       "Japan             52\n",
       "Singapore         48\n",
       "Brazil            47\n",
       "Egypt             43\n",
       "Israel            31\n",
       "Greece            30\n",
       "England           24\n",
       "Canada            22\n",
       "Germany           20\n",
       "France            18\n",
       "Iran              18\n",
       "Australia         18\n",
       "Name: País, dtype: int64"
      ]
     },
     "execution_count": 45,
     "metadata": {},
     "output_type": "execute_result"
    }
   ],
   "source": [
    "cidades['País'].value_counts()[:15]"
   ]
  },
  {
   "cell_type": "code",
   "execution_count": 46,
   "metadata": {},
   "outputs": [
    {
     "data": {
      "image/png": "[encoded data removed]",
      "text/plain": [
       "<Figure size 1080x432 with 1 Axes>"
      ]
     },
     "metadata": {
      "needs_background": "light"
     },
     "output_type": "display_data"
    }
   ],
   "source": [
    "plt.figure(figsize=(15,6))\n",
    "cidades['País'].value_counts().plot(kind='bar')\n",
    "plt.title(\"Quantidade de cidades por país\")\n",
    "plt.show()"
   ]
  },
  {
   "cell_type": "markdown",
   "metadata": {},
   "source": [
    "### Quantidade de cidades por continente"
   ]
  },
  {
   "cell_type": "code",
   "execution_count": 47,
   "metadata": {},
   "outputs": [],
   "source": [
    "def get_country_continent(row):\n",
    "    continents_dict = {\n",
    "        'America' : ('United States', 'Canada', 'Brazil', 'Mexico', 'Argentina',\n",
    "                     'Venezuela', 'Chile', 'Belize'),\n",
    "        'Europe' : ('Italy', 'Greece', 'England', 'Germany', 'France',\n",
    "                    'Russia', 'Netherlands', 'Sweden', 'Scotland', 'Poland',\n",
    "                    'Portugal', 'Hungary', 'Denmark', 'Czech Republic', 'Ireland', \n",
    "                    'Spain', 'Romania', 'Serbia', 'Slovakia', 'Northern Ireland',\n",
    "                    'Malta', 'Belgium', 'Finland', 'Belarus', 'Wales',\n",
    "                    'Estonia', 'Ukraine', 'Slovenia', 'Monaco', 'Lithuania',\n",
    "                    'Switzerland','Bulgaria', 'Austria'),\n",
    "        'Asia' : ('India', 'Japan', 'Singapore', 'Israel', 'Iran',\n",
    "                  'Pakistan', 'Hong Kong', 'Malaysia', 'Indonesia', 'Turkey',\n",
    "                  'Philippines', 'Bangladesh', 'South Korea', 'Saudi Arabia', 'Taiwan',\n",
    "                  'China', 'Kazakhstan', 'Qatar', 'Yemen', 'Afghanistan',\n",
    "                  'Palestine', 'Oman', 'Myanmar', 'Lebanon', 'Iraq',\n",
    "                  'Vietnam'),\n",
    "        'Oceania' : ('Australia', 'New Zealand'),\n",
    "        'Africa' : ('Egypt', 'Nigeria', 'South Africa', 'Kenya', 'Ivory Coast',\n",
    "                    'Ghana', 'Djibouti', 'Botswana')\n",
    "    }\n",
    "    \n",
    "    for continent_name, countries in continents_dict.items():\n",
    "        if row['País'] in countries:\n",
    "            return continent_name"
   ]
  },
  {
   "cell_type": "code",
   "execution_count": 48,
   "metadata": {},
   "outputs": [],
   "source": [
    "cidades['Continent'] = cidades.apply(get_country_continent, axis=1)"
   ]
  },
  {
   "cell_type": "code",
   "execution_count": 49,
   "metadata": {},
   "outputs": [
    {
     "data": {
      "image/png": "[encoded data removed]",
      "text/plain": [
       "<Figure size 720x432 with 1 Axes>"
      ]
     },
     "metadata": {
      "needs_background": "light"
     },
     "output_type": "display_data"
    }
   ],
   "source": [
    "plt.figure(figsize=(10,6))\n",
    "cidades['Continent'].value_counts().plot(kind='bar')\n",
    "plt.title(\"Quantidade de cidades por continente\")\n",
    "plt.show()"
   ]
  },
  {
   "cell_type": "markdown",
   "metadata": {},
   "source": [
    "### Quantidade de cidades por região"
   ]
  },
  {
   "cell_type": "code",
   "execution_count": 50,
   "metadata": {},
   "outputs": [],
   "source": [
    "def get_country_region(row):\n",
    "    #https://en.wikipedia.org/wiki/United_Nations_geoscheme\n",
    "    region_dict = {\n",
    "        'North America' : ('United States', 'Canada', 'Mexico'),\n",
    "        'Central America' : ('Belize'),\n",
    "        'South America' : ('Brazil', 'Argentina', 'Venezuela', 'Chile'),\n",
    "        'Northern Europe' : ('England', 'Sweden', 'Scotland', 'Denmark', 'Ireland',\n",
    "                            'Northern Ireland', 'Finland', 'Wales', 'Estonia', 'Lithuania',),\n",
    "        'Western Europe' : ('Germany', 'France', 'Netherlands', 'Belgium', 'Switzerland', \n",
    "                           'Austria'),\n",
    "        'Eastern Europe' : ('Russia', 'Poland', 'Hungary', 'Czech Republic', 'Romania', \n",
    "                           'Belarus', 'Ukraine', 'Bulgaria',),\n",
    "        'Southern Europe' : ('Italy', 'Greece', 'Portugal', 'Spain', 'Serbia', \n",
    "                            'Slovakia', 'Malta', 'Slovenia', 'Monaco',),\n",
    "        'Central Asia' : ('Kazakhstan',),\n",
    "        'Eastern Asia' : ('Japan', 'Hong Kong', 'South Korea', 'Taiwan', 'China',),\n",
    "        'South-eastern Asia' : ('Singapore', 'Malaysia', 'Indonesia', 'Philippines', 'Myanmar',\n",
    "                               'Vietnam'),\n",
    "        'Southern Asia' : ('India', 'Iran', 'Pakistan', 'Bangladesh', 'Afghanistan',),\n",
    "        'Western Asia' : ('Israel', 'Turkey', 'Saudi Arabia', 'Qatar', 'Yemen',\n",
    "                         'Palestine', 'Oman', 'Lebanon' 'Iraq',),\n",
    "        'Australia and New Zealand' : ('Australia', 'New Zealand'),\n",
    "        'Eastern Africa' : ('Kenya', 'Djibouti',),\n",
    "        'Northern Africa' : ('Egypt',),\n",
    "        'Southern Africa' : ('South Africa', 'Botswana'),\n",
    "        'Western Africa' : ('Nigeria', 'Ivory Coast', 'Ghana',)\n",
    "    }\n",
    "    \n",
    "    for region_name, countries in region_dict.items():\n",
    "        if row['País'] in countries:\n",
    "            return region_name"
   ]
  },
  {
   "cell_type": "code",
   "execution_count": 51,
   "metadata": {},
   "outputs": [],
   "source": [
    "cidades['Region'] = cidades.apply(get_country_region, axis=1)"
   ]
  },
  {
   "cell_type": "code",
   "execution_count": 52,
   "metadata": {},
   "outputs": [
    {
     "data": {
      "image/png": "[encoded data removed]",
      "text/plain": [
       "<Figure size 720x432 with 1 Axes>"
      ]
     },
     "metadata": {
      "needs_background": "light"
     },
     "output_type": "display_data"
    }
   ],
   "source": [
    "plt.figure(figsize=(10,6))\n",
    "cidades['Region'].value_counts().plot(kind='bar')\n",
    "plt.title(\"Quantidade de cidades por região\")\n",
    "plt.show()"
   ]
  },
  {
   "cell_type": "markdown",
   "metadata": {},
   "source": [
    "## Vendo tipos de anotações"
   ]
  },
  {
   "cell_type": "markdown",
   "metadata": {},
   "source": [
    "Algumas anotações foram feitas por mim como: 'Very Small', 'Didn't find at google', 'Under construction' e 'Planned'. Eu não verifiquei o status de cada cidade, entretanto, a maioria delas existe de fato. Essas anotações vão servir para entender qualquer erro na hora de baixar o grafo dos locais de interesse."
   ]
  },
  {
   "cell_type": "code",
   "execution_count": 53,
   "metadata": {},
   "outputs": [
    {
     "data": {
      "text/plain": [
       "Very small                   24\n",
       "Didn't find at google        24\n",
       "Under construction           20\n",
       "Under Construction            5\n",
       "Doesn't seems too planned     4\n",
       "Cairo Governarate.            4\n",
       "Ancient                       4\n",
       "Planned                       3\n",
       "never built                   3\n",
       "Sharqia Governarate.          2\n",
       "Damietta Governarate.         2\n",
       "failed                        2\n",
       "South Sinai Governarate.      2\n",
       "Alexandria Governarate.       2\n",
       "18th century                  2\n",
       "Name: Anotação, dtype: int64"
      ]
     },
     "execution_count": 53,
     "metadata": {},
     "output_type": "execute_result"
    }
   ],
   "source": [
    "cidades['Anotação'].value_counts()[:15]"
   ]
  },
  {
   "cell_type": "markdown",
   "metadata": {},
   "source": [
    "## Baixando os grafos dos locais"
   ]
  },
  {
   "cell_type": "markdown",
   "metadata": {},
   "source": [
    "Para recuperar o grafo da região de interesse, devo passar uma string com todas as informações do local. Essa string será formada a partir de todas as informações contidas em cada uma das linhas do dataframe."
   ]
  },
  {
   "cell_type": "code",
   "execution_count": 54,
   "metadata": {},
   "outputs": [],
   "source": [
    "def add_value_if_not_na(row, col, my_string):\n",
    "    if pd.notna(row[col]):\n",
    "        my_string += f\", {row[col]}\"\n",
    "    \n",
    "    return my_string\n",
    "        \n",
    "def get_place_string(row):\n",
    "    place_string = row['Cidade/Bairro']\n",
    "    \n",
    "    place_string = add_value_if_not_na(row, 'Cidade', place_string)\n",
    "    place_string = add_value_if_not_na(row, 'Estado', place_string)\n",
    "    \n",
    "    place_string += f\", {row['País']}\" \n",
    "    \n",
    "    return place_string"
   ]
  },
  {
   "cell_type": "code",
   "execution_count": 55,
   "metadata": {},
   "outputs": [],
   "source": [
    "final_string = cidades.apply(get_place_string, axis=1)"
   ]
  },
  {
   "cell_type": "code",
   "execution_count": 56,
   "metadata": {},
   "outputs": [
    {
     "data": {
      "text/plain": [
       "0                   Darulaman, Kabul, Kabul, Afghanistan\n",
       "1      Ciudad Jardín Lomas del Palomar, Buenos Aires,...\n",
       "2            La Plata, La Plata, Buenos Aires, Argentina\n",
       "3                          La Punta, San Luis, Argentina\n",
       "4                      Federación, Entre Ríos, Argentina\n",
       "                             ...                        \n",
       "950                      Nocatee, Florida, United States\n",
       "951             Carlton Landing, Oklahoma, United States\n",
       "952                             Ciudad Guyana, Venezuela\n",
       "953                                  Al Noor City, Yemen\n",
       "954                         Thu Dúc, Ho Chi Mnh, Vietnam\n",
       "Length: 955, dtype: object"
      ]
     },
     "execution_count": 56,
     "metadata": {},
     "output_type": "execute_result"
    }
   ],
   "source": [
    "final_string"
   ]
  },
  {
   "cell_type": "code",
   "execution_count": 57,
   "metadata": {},
   "outputs": [],
   "source": [
    "final_strings_path = pathlib.Path('data/final_strings.csv')\n",
    "final_string.to_csv(final_strings_path, index=False)"
   ]
  },
  {
   "cell_type": "markdown",
   "metadata": {},
   "source": [
    "Agora, usando o osmnx, vou tentar fazer o download dos grafos desses lugares além de imprimir caso tenha acontecido algum erro.\n",
    "\n",
    "**Feito usando o código baixando_grafos.py**"
   ]
  },
  {
   "cell_type": "markdown",
   "metadata": {},
   "source": [
    "## Grafos não baixados até o momento"
   ]
  },
  {
   "cell_type": "markdown",
   "metadata": {},
   "source": [
    "Existem grafos que não foram baixados. Vamos ver quais são"
   ]
  },
  {
   "cell_type": "code",
   "execution_count": 182,
   "metadata": {},
   "outputs": [],
   "source": [
    "p = pathlib.Path('data/').glob('error*')\n",
    "files = [x for x in p if x.is_file()]"
   ]
  },
  {
   "cell_type": "code",
   "execution_count": 205,
   "metadata": {},
   "outputs": [],
   "source": [
    "error_df = pd.read_csv(files[0], sep=';')\n",
    "\n",
    "for file in files[1:]:\n",
    "    curr_error_df = pd.read_csv(file, sep=';')\n",
    "    error_df = pd.concat([error_df, curr_error_df])\n",
    "\n",
    "error_df.drop_duplicates(subset='place_name', inplace=True)\n",
    "error_df.sort_values(by='place_id', inplace=True)\n",
    "\n",
    "#Had to take an entry after downloading so ids changed\n",
    "error_df['place_id'] = error_df['place_id'].apply(lambda r: r-1 if r > 313 else r)\n",
    "\n",
    "error_df.set_index('place_id', inplace=True)"
   ]
  },
  {
   "cell_type": "code",
   "execution_count": 206,
   "metadata": {},
   "outputs": [
    {
     "data": {
      "text/plain": [
       "374"
      ]
     },
     "execution_count": 206,
     "metadata": {},
     "output_type": "execute_result"
    }
   ],
   "source": [
    "len(error_df)"
   ]
  },
  {
   "cell_type": "code",
   "execution_count": 207,
   "metadata": {},
   "outputs": [
    {
     "data": {
      "text/html": [
       "<div>\n",
       "<style scoped>\n",
       "    .dataframe tbody tr th:only-of-type {\n",
       "        vertical-align: middle;\n",
       "    }\n",
       "\n",
       "    .dataframe tbody tr th {\n",
       "        vertical-align: top;\n",
       "    }\n",
       "\n",
       "    .dataframe thead th {\n",
       "        text-align: right;\n",
       "    }\n",
       "</style>\n",
       "<table border=\"1\" class=\"dataframe\">\n",
       "  <thead>\n",
       "    <tr style=\"text-align: right;\">\n",
       "      <th></th>\n",
       "      <th>place_name</th>\n",
       "    </tr>\n",
       "    <tr>\n",
       "      <th>place_id</th>\n",
       "      <th></th>\n",
       "    </tr>\n",
       "  </thead>\n",
       "  <tbody>\n",
       "    <tr>\n",
       "      <th>0</th>\n",
       "      <td>Darulaman, Kabul, Kabul, Afghanistan</td>\n",
       "    </tr>\n",
       "    <tr>\n",
       "      <th>6</th>\n",
       "      <td>Canberra, Australian Capital Territory, Australia</td>\n",
       "    </tr>\n",
       "    <tr>\n",
       "      <th>14</th>\n",
       "      <td>Joondalup, Perth, Western Australia, Australia</td>\n",
       "    </tr>\n",
       "    <tr>\n",
       "      <th>17</th>\n",
       "      <td>Central Business District, Melbourne, Victoria...</td>\n",
       "    </tr>\n",
       "    <tr>\n",
       "      <th>20</th>\n",
       "      <td>Multifunction Polis, South Australia, Australia</td>\n",
       "    </tr>\n",
       "    <tr>\n",
       "      <th>21</th>\n",
       "      <td>Palmerston, Northern Territory, Australia</td>\n",
       "    </tr>\n",
       "    <tr>\n",
       "      <th>24</th>\n",
       "      <td>Dhanmondi, Dhaka, Bangladesh</td>\n",
       "    </tr>\n",
       "    <tr>\n",
       "      <th>26</th>\n",
       "      <td>Kawran Bazar, Dhaka, Bangladesh</td>\n",
       "    </tr>\n",
       "    <tr>\n",
       "      <th>27</th>\n",
       "      <td>Mirpur, Dhaka, Bangladesh</td>\n",
       "    </tr>\n",
       "    <tr>\n",
       "      <th>29</th>\n",
       "      <td>Purbachal New Town, Bangladesh</td>\n",
       "    </tr>\n",
       "  </tbody>\n",
       "</table>\n",
       "</div>"
      ],
      "text/plain": [
       "                                                 place_name\n",
       "place_id                                                   \n",
       "0                      Darulaman, Kabul, Kabul, Afghanistan\n",
       "6         Canberra, Australian Capital Territory, Australia\n",
       "14           Joondalup, Perth, Western Australia, Australia\n",
       "17        Central Business District, Melbourne, Victoria...\n",
       "20          Multifunction Polis, South Australia, Australia\n",
       "21                Palmerston, Northern Territory, Australia\n",
       "24                             Dhanmondi, Dhaka, Bangladesh\n",
       "26                          Kawran Bazar, Dhaka, Bangladesh\n",
       "27                                Mirpur, Dhaka, Bangladesh\n",
       "29                           Purbachal New Town, Bangladesh"
      ]
     },
     "execution_count": 207,
     "metadata": {},
     "output_type": "execute_result"
    }
   ],
   "source": [
    "error_df.head(10)"
   ]
  },
  {
   "cell_type": "code",
   "execution_count": 208,
   "metadata": {},
   "outputs": [],
   "source": [
    "error_df.to_csv('data/complete_error.csv', sep=';', index=False)"
   ]
  },
  {
   "cell_type": "code",
   "execution_count": 209,
   "metadata": {},
   "outputs": [],
   "source": [
    "error_df['country'] = error_df['place_name'].apply(lambda s: s.split(',')[-1])"
   ]
  },
  {
   "cell_type": "code",
   "execution_count": 210,
   "metadata": {},
   "outputs": [
    {
     "data": {
      "image/png": "[encoded data removed]",
      "text/plain": [
       "<Figure size 720x432 with 1 Axes>"
      ]
     },
     "metadata": {
      "needs_background": "light"
     },
     "output_type": "display_data"
    }
   ],
   "source": [
    "plt.figure(figsize=(10,6))\n",
    "error_df['country'].value_counts().plot(kind='bar')\n",
    "plt.title(\"Quantidade de cidades não baixadas por país\")\n",
    "plt.show()"
   ]
  },
  {
   "cell_type": "markdown",
   "metadata": {},
   "source": [
    "## Dados sobre os grafos baixados"
   ]
  },
  {
   "cell_type": "markdown",
   "metadata": {},
   "source": [
    "Agora olhando para os grafos que conseguimos baixar, vamos ver a distribuição de quantidade de nós e de arestas."
   ]
  },
  {
   "cell_type": "code",
   "execution_count": 211,
   "metadata": {},
   "outputs": [],
   "source": [
    "p = pathlib.Path('data/').glob('stats*')\n",
    "graph_files = [x for x in p if x.is_file()]"
   ]
  },
  {
   "cell_type": "code",
   "execution_count": 212,
   "metadata": {},
   "outputs": [],
   "source": [
    "stats_dtype = {'place_id':'Int16', 'n_nodes': 'Int32', 'n_edges':'Int32'}\n",
    "stats_df = pd.read_csv(graph_files[0], sep=',', dtype=stats_dtype)\n",
    "\n",
    "for file in graph_files[1:]:\n",
    "    curr_stats_df = pd.read_csv(file, sep=',', dtype=stats_dtype)\n",
    "    stats_df = pd.concat([stats_df, curr_stats_df])\n",
    "\n",
    "stats_df.drop_duplicates(subset='place_id', inplace=True, keep='last')\n",
    "stats_df.sort_values(by='place_id', inplace=True)\n",
    "\n",
    "#Had to take an entry after downloading so ids changed\n",
    "stats_df['place_id'] = stats_df['place_id'].apply(lambda r: int(r)-1 if int(r) > 313 else int(r))\n",
    "\n",
    "stats_df.set_index('place_id', inplace=True)"
   ]
  },
  {
   "cell_type": "markdown",
   "metadata": {},
   "source": [
    "A seguinte operação mostra que não existem indexes conflitantes nos dois dataframes (error e stats)"
   ]
  },
  {
   "cell_type": "code",
   "execution_count": 213,
   "metadata": {},
   "outputs": [
    {
     "data": {
      "text/html": [
       "<div>\n",
       "<style scoped>\n",
       "    .dataframe tbody tr th:only-of-type {\n",
       "        vertical-align: middle;\n",
       "    }\n",
       "\n",
       "    .dataframe tbody tr th {\n",
       "        vertical-align: top;\n",
       "    }\n",
       "\n",
       "    .dataframe thead th {\n",
       "        text-align: right;\n",
       "    }\n",
       "</style>\n",
       "<table border=\"1\" class=\"dataframe\">\n",
       "  <thead>\n",
       "    <tr style=\"text-align: right;\">\n",
       "      <th></th>\n",
       "      <th>n_nodes</th>\n",
       "      <th>n_edges</th>\n",
       "      <th>place_name</th>\n",
       "      <th>country</th>\n",
       "    </tr>\n",
       "    <tr>\n",
       "      <th>place_id</th>\n",
       "      <th></th>\n",
       "      <th></th>\n",
       "      <th></th>\n",
       "      <th></th>\n",
       "    </tr>\n",
       "  </thead>\n",
       "  <tbody>\n",
       "  </tbody>\n",
       "</table>\n",
       "</div>"
      ],
      "text/plain": [
       "Empty DataFrame\n",
       "Columns: [n_nodes, n_edges, place_name, country]\n",
       "Index: []"
      ]
     },
     "execution_count": 213,
     "metadata": {},
     "output_type": "execute_result"
    }
   ],
   "source": [
    "pd.merge(stats_df, error_df, left_index=True, right_index=True)"
   ]
  },
  {
   "cell_type": "code",
   "execution_count": 214,
   "metadata": {},
   "outputs": [
    {
     "data": {
      "text/plain": [
       "580"
      ]
     },
     "execution_count": 214,
     "metadata": {},
     "output_type": "execute_result"
    }
   ],
   "source": [
    "len(stats_df)"
   ]
  },
  {
   "cell_type": "code",
   "execution_count": 216,
   "metadata": {},
   "outputs": [
    {
     "data": {
      "text/html": [
       "<div>\n",
       "<style scoped>\n",
       "    .dataframe tbody tr th:only-of-type {\n",
       "        vertical-align: middle;\n",
       "    }\n",
       "\n",
       "    .dataframe tbody tr th {\n",
       "        vertical-align: top;\n",
       "    }\n",
       "\n",
       "    .dataframe thead th {\n",
       "        text-align: right;\n",
       "    }\n",
       "</style>\n",
       "<table border=\"1\" class=\"dataframe\">\n",
       "  <thead>\n",
       "    <tr style=\"text-align: right;\">\n",
       "      <th></th>\n",
       "      <th>n_nodes</th>\n",
       "      <th>n_edges</th>\n",
       "    </tr>\n",
       "    <tr>\n",
       "      <th>place_id</th>\n",
       "      <th></th>\n",
       "      <th></th>\n",
       "    </tr>\n",
       "  </thead>\n",
       "  <tbody>\n",
       "    <tr>\n",
       "      <th>1</th>\n",
       "      <td>358</td>\n",
       "      <td>998</td>\n",
       "    </tr>\n",
       "    <tr>\n",
       "      <th>2</th>\n",
       "      <td>2716</td>\n",
       "      <td>5176</td>\n",
       "    </tr>\n",
       "    <tr>\n",
       "      <th>3</th>\n",
       "      <td>705</td>\n",
       "      <td>2122</td>\n",
       "    </tr>\n",
       "    <tr>\n",
       "      <th>4</th>\n",
       "      <td>836</td>\n",
       "      <td>2225</td>\n",
       "    </tr>\n",
       "    <tr>\n",
       "      <th>5</th>\n",
       "      <td>58931</td>\n",
       "      <td>140231</td>\n",
       "    </tr>\n",
       "    <tr>\n",
       "      <th>7</th>\n",
       "      <td>317</td>\n",
       "      <td>703</td>\n",
       "    </tr>\n",
       "    <tr>\n",
       "      <th>8</th>\n",
       "      <td>149</td>\n",
       "      <td>344</td>\n",
       "    </tr>\n",
       "    <tr>\n",
       "      <th>9</th>\n",
       "      <td>29</td>\n",
       "      <td>68</td>\n",
       "    </tr>\n",
       "    <tr>\n",
       "      <th>10</th>\n",
       "      <td>693</td>\n",
       "      <td>1446</td>\n",
       "    </tr>\n",
       "    <tr>\n",
       "      <th>11</th>\n",
       "      <td>959</td>\n",
       "      <td>2248</td>\n",
       "    </tr>\n",
       "  </tbody>\n",
       "</table>\n",
       "</div>"
      ],
      "text/plain": [
       "          n_nodes  n_edges\n",
       "place_id                  \n",
       "1             358      998\n",
       "2            2716     5176\n",
       "3             705     2122\n",
       "4             836     2225\n",
       "5           58931   140231\n",
       "7             317      703\n",
       "8             149      344\n",
       "9              29       68\n",
       "10            693     1446\n",
       "11            959     2248"
      ]
     },
     "execution_count": 216,
     "metadata": {},
     "output_type": "execute_result"
    }
   ],
   "source": [
    "stats_df.head(10)"
   ]
  },
  {
   "cell_type": "code",
   "execution_count": 217,
   "metadata": {},
   "outputs": [],
   "source": [
    "stats_df.to_csv('data/complete_stats.csv', sep=',', index=False)"
   ]
  },
  {
   "cell_type": "code",
   "execution_count": 218,
   "metadata": {},
   "outputs": [
    {
     "data": {
      "text/plain": [
       "Text(0.5, 1.0, 'Distribuição de quantidade de nós nos grafos')"
      ]
     },
     "execution_count": 218,
     "metadata": {},
     "output_type": "execute_result"
    },
    {
     "data": {
      "image/png": "[encoded data removed]",
      "text/plain": [
       "<Figure size 720x432 with 1 Axes>"
      ]
     },
     "metadata": {
      "needs_background": "light"
     },
     "output_type": "display_data"
    }
   ],
   "source": [
    "plt.figure(figsize=(10,6))\n",
    "plt.hist(stats_df['n_nodes'], bins=50)\n",
    "plt.title(\"Distribuição de quantidade de nós nos grafos\")"
   ]
  },
  {
   "cell_type": "code",
   "execution_count": 219,
   "metadata": {},
   "outputs": [
    {
     "data": {
      "text/plain": [
       "Text(0.5, 1.0, 'Distribuição de quantidade de arestas nos grafos')"
      ]
     },
     "execution_count": 219,
     "metadata": {},
     "output_type": "execute_result"
    },
    {
     "data": {
      "image/png": "[encoded data removed]",
      "text/plain": [
       "<Figure size 720x432 with 1 Axes>"
      ]
     },
     "metadata": {
      "needs_background": "light"
     },
     "output_type": "display_data"
    }
   ],
   "source": [
    "plt.figure(figsize=(10,6))\n",
    "plt.hist(stats_df['n_edges'], bins=50)\n",
    "plt.title(\"Distribuição de quantidade de arestas nos grafos\")"
   ]
  }
 ],
 "metadata": {
  "kernelspec": {
   "display_name": "ox",
   "language": "python",
   "name": "ox"
  },
  "language_info": {
   "codemirror_mode": {
    "name": "ipython",
    "version": 3
   },
   "file_extension": ".py",
   "mimetype": "text/x-python",
   "name": "python",
   "nbconvert_exporter": "python",
   "pygments_lexer": "ipython3",
   "version": "3.10.6"
  }
 },
 "nbformat": 4,
 "nbformat_minor": 4
}
